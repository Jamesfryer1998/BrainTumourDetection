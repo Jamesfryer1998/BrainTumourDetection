{
 "cells": [
  {
   "cell_type": "code",
   "execution_count": 17,
   "id": "f9d19686",
   "metadata": {},
   "outputs": [],
   "source": [
    "import os\n",
    "import json\n",
    "import keras \n",
    "from keras.models import Sequential\n",
    "from keras.layers import Conv2D, MaxPooling2D, Flatten, Dense, Dropout, BatchNormalization\n",
    "from tensorflow.keras.optimizers.legacy import Adam\n",
    "from PIL import Image\n",
    "import numpy as np\n",
    "import pandas as pd\n",
    "import matplotlib.pyplot as plt\n",
    "plt.style.use('dark_background')\n",
    "from sklearn.model_selection import train_test_split\n",
    "from sklearn.preprocessing import OneHotEncoder\n",
    "from sklearn.metrics import classification_report, accuracy_score, confusion_matrix"
   ]
  },
  {
   "cell_type": "markdown",
   "id": "acc511e2-dfd3-43be-abfa-b2ef7a708036",
   "metadata": {},
   "source": [
    "# One hot encoding target classes"
   ]
  },
  {
   "cell_type": "code",
   "execution_count": 23,
   "id": "d89f2788",
   "metadata": {},
   "outputs": [],
   "source": [
    "def proccess_data(res_dir, res):\n",
    "    no_path = f'/Users/james/MScCode/Final Project/Datasets_cleaned/Resolutions/{res_dir}/no'\n",
    "    yes_path = f'/Users/james/MScCode/Final Project/Datasets_cleaned/Resolutions/{res_dir}/yes'\n",
    "\n",
    "    if len(os.listdir(no_path)) == 0 and len(os.listdir(yes_path)) == 0:\n",
    "        raise Exception('No files present. Please pre-process data.')\n",
    "\n",
    "    data = []\n",
    "    result = []\n",
    "    encoder = OneHotEncoder()\n",
    "    encoder.fit([[0], [1]]) \n",
    "\n",
    "    # No tumour\n",
    "    for file in os.listdir(no_path):\n",
    "        img = Image.open(f'{no_path}/{file}')\n",
    "        img = np.array(img)\n",
    "        if img.shape == res:\n",
    "            data.append(np.array(img))\n",
    "            result.append(encoder.transform([[0]]).toarray())\n",
    "\n",
    "    # Yes tumour\n",
    "    for file in os.listdir(yes_path):\n",
    "        img = Image.open(f'{yes_path}/{file}')\n",
    "        img = np.array(img)\n",
    "        if img.shape == res:\n",
    "            data.append(np.array(img))\n",
    "            result.append(encoder.transform([[1]]).toarray())\n",
    "\n",
    "    data = np.array(data)\n",
    "    results = np.array(result)\n",
    "    results = results.reshape(data.shape[0], 2)\n",
    "\n",
    "    X_train, X_test, y_train, y_test = train_test_split(data, results, test_size=0.3, shuffle=True, random_state=0)\n",
    "\n",
    "    return X_train, X_test, y_train, y_test\n",
    "\n"
   ]
  },
  {
   "cell_type": "code",
   "execution_count": 31,
   "id": "9ce6da95",
   "metadata": {},
   "outputs": [],
   "source": [
    "def compile_model(res_dir, res):\n",
    "    X_train, X_test, y_train, y_test = proccess_data(res_dir, res)\n",
    "\n",
    "    model = Sequential()\n",
    "\n",
    "    # res need to be in form of (x, y, z) e.g (128, 128, 3)\n",
    "    model.add(Conv2D(32, kernel_size=(2, 2), input_shape=res, padding = 'Same'))\n",
    "    model.add(Conv2D(32, kernel_size=(2, 2),  activation ='relu', padding = 'Same'))\n",
    "\n",
    "    model.add(BatchNormalization())\n",
    "    model.add(MaxPooling2D(pool_size=(2, 2)))\n",
    "    model.add(Dropout(0.25))\n",
    "\n",
    "    model.add(Conv2D(64, kernel_size = (2,2), activation ='relu', padding = 'Same'))\n",
    "    model.add(Conv2D(64, kernel_size = (2,2), activation ='relu', padding = 'Same'))\n",
    "\n",
    "    model.add(BatchNormalization())\n",
    "    model.add(MaxPooling2D(pool_size=(2,2), strides=(2,2)))\n",
    "    model.add(Dropout(0.25))\n",
    "\n",
    "    model.add(Flatten())\n",
    "\n",
    "    model.add(Dense(512, activation='relu'))\n",
    "    model.add(Dropout(0.5))\n",
    "    model.add(Dense(2, activation='softmax'))\n",
    "\n",
    "    model.compile(loss=\"categorical_crossentropy\", optimizer=Adam(), metrics=['accuracy'])\n",
    "    history = model.fit(X_train, y_train, epochs=50, batch_size=40, verbose=0,validation_data=(X_test, y_test))\n",
    "    score = model.evaluate(X_test, y_test, verbose=0)\n",
    "    pred = model.predict(X_test)\n",
    "    y_pred = np.argmax(pred, axis=1)\n",
    "    y_test_int = np.argmax(y_test, axis=1)\n",
    "    # Converting y_test labels back from one-hot encoded labels to 0-9 integers for classification\n",
    "    \n",
    "    # Comparing predicted and actual labels\n",
    "    # print(classification_report(y_test_int, y_pred))\n",
    "    # print(f'Accuracy score: {accuracy_score(y_test_int, y_pred)}')\n",
    "    confusion = confusion_matrix(y_test_int, y_pred)\n",
    "\n",
    "    # Save results\n",
    "    save_dict = {\n",
    "        'resolution': res_dir,\n",
    "        'test_loss': score[0],\n",
    "        'test_accuracy': score[1],\n",
    "        'training_loss': history.history['loss'],\n",
    "        'val_loss': history.history['val_loss'],\n",
    "        'true_neg': confusion[0][0],\n",
    "        'false_neg': confusion[1][0],\n",
    "        'true_pos': confusion[1][1],\n",
    "        'false_pos': confusion[0][1]\n",
    "    }\n",
    "\n",
    "    print(save_dict)\n",
    "\n",
    "    # print(save_dict)\n",
    "\n",
    "    # # If file not exists, create new file\n",
    "    # if os.path.exists(\"res_testing.json\") == False:\n",
    "    #     with open(\"testing.json\", \"w\") as outfile:\n",
    "    #         json.dump(save_dict, outfile)\n",
    "    #         print('New file created.')\n",
    "    # else:\n",
    "    #     # Open json file, append new contents\n",
    "    #     with open(\"res_testing.json\", \"r\") as infile:\n",
    "    #         data = json.load(infile)\n",
    "    #         data.extend(save_dict)\n",
    "            \n",
    "    #     # Save extended results\n",
    "    #     with open(\"res_testing.json\", \"w\") as outfile:\n",
    "    #         json.dump(data, outfile)\n",
    "    #         print(f'Resolution data updated.')\n",
    "\n",
    "    # print(f'Res {res_dir} complete:')"
   ]
  },
  {
   "cell_type": "code",
   "execution_count": 33,
   "id": "cbb79e47",
   "metadata": {},
   "outputs": [
    {
     "name": "stderr",
     "output_type": "stream",
     "text": [
      "2023-01-18 10:09:54.613754: I tensorflow/core/grappler/optimizers/custom_graph_optimizer_registry.cc:114] Plugin optimizer for device_type GPU is enabled.\n",
      "2023-01-18 10:09:55.141705: I tensorflow/core/grappler/optimizers/custom_graph_optimizer_registry.cc:114] Plugin optimizer for device_type GPU is enabled.\n"
     ]
    },
    {
     "name": "stdout",
     "output_type": "stream",
     "text": [
      "3/3 [==============================] - 0s 17ms/step\n",
      "{'resolution': '32', 'test_loss': 0.9935747981071472, 'test_accuracy': 0.7878788113594055, 'training_loss': [3.8462026119232178, 1.7971420288085938, 1.1344469785690308, 1.1597604751586914, 0.7440781593322754, 0.6362918615341187, 0.6083597540855408, 0.6588245034217834, 0.3467061221599579, 0.5033069849014282, 0.3125380575656891, 0.2829466164112091, 0.24312271177768707, 0.16805395483970642, 0.14112649857997894, 0.17498594522476196, 0.11142446845769882, 0.2000667154788971, 0.12321639806032181, 0.10095418244600296, 0.07063445448875427, 0.05524693429470062, 0.05738430097699165, 0.04803938791155815, 0.08868972957134247, 0.06661966443061829, 0.10021723806858063, 0.05780122056603432, 0.07093815505504608, 0.060180917382240295, 0.03716810420155525, 0.057100068777799606, 0.02776132896542549, 0.06388915330171585, 0.025641731917858124, 0.053977373987436295, 0.02077164314687252, 0.022265851497650146, 0.022627731785178185, 0.02786783128976822, 0.05489402264356613, 0.02810574881732464, 0.015783187001943588, 0.03616686537861824, 0.00735961040481925, 0.03700677305459976, 0.009019381366670132, 0.037974994629621506, 0.011266784742474556, 0.011326240375638008], 'val_loss': [5.816438674926758, 3.5354785919189453, 3.5616626739501953, 2.1472373008728027, 1.094179630279541, 1.4678384065628052, 2.0118610858917236, 0.6479355692863464, 1.9777897596359253, 0.7387493252754211, 1.0966649055480957, 0.9287242293357849, 1.7841846942901611, 0.9123383164405823, 0.911247730255127, 1.4404345750808716, 0.8250888586044312, 0.9605706334114075, 1.0421743392944336, 0.8663554191589355, 0.8674520254135132, 0.9386186599731445, 0.956990122795105, 1.1474624872207642, 0.9851338267326355, 1.3586668968200684, 0.8815457224845886, 0.926820695400238, 1.0285710096359253, 1.4188861846923828, 0.9395046830177307, 1.0628749132156372, 0.9386095404624939, 1.0568723678588867, 1.0354399681091309, 1.0303444862365723, 1.2578125, 1.0952119827270508, 0.9448612928390503, 0.9591671824455261, 1.0082335472106934, 1.0192084312438965, 1.0165038108825684, 1.0305414199829102, 1.1163053512573242, 1.1055169105529785, 1.046022891998291, 0.9718344807624817, 0.951171875, 0.9935747981071472], 'true_neg': 15, 'false_neg': 4, 'true_pos': 37, 'false_pos': 10}\n"
     ]
    },
    {
     "name": "stderr",
     "output_type": "stream",
     "text": [
      "2023-01-18 10:10:00.313424: I tensorflow/core/grappler/optimizers/custom_graph_optimizer_registry.cc:114] Plugin optimizer for device_type GPU is enabled.\n"
     ]
    }
   ],
   "source": [
    "compile_model('32', (32, 32, 3))"
   ]
  },
  {
   "cell_type": "code",
   "execution_count": 3,
   "id": "c94654bf-e7f0-4806-8bc7-5f9f1b9562a5",
   "metadata": {},
   "outputs": [],
   "source": [
    "no_path = r'/Users/james/MScCode/Final Project/Datasets_cleaned/test_dataset_processed/no'\n",
    "yes_path = r'/Users/james/MScCode/Final Project/Datasets_cleaned/test_dataset_processed/yes'"
   ]
  },
  {
   "cell_type": "code",
   "execution_count": 14,
   "id": "84b9f43d-0d69-43dd-b3c0-a4abe5038bf7",
   "metadata": {},
   "outputs": [],
   "source": [
    "data = []\n",
    "paths = []\n",
    "result = []\n",
    "\n",
    "for r, d, f in os.walk(r'/Users/james/MScCode/Final Project/Datasets/brain_tumour_small/yes'):\n",
    "    for file in f:\n",
    "        if '.jpg' in file:\n",
    "            paths.append(os.path.join(r, file))\n",
    "\n",
    "for path in paths:\n",
    "    img = Image.open(path)\n",
    "    img = img.resize((128,128))\n",
    "    img = np.array(img)\n",
    "    if(img.shape == (128,128,3)):\n",
    "        data.append(np.array(img))\n",
    "        result.append(encoder.transform([[0]]).toarray())"
   ]
  },
  {
   "cell_type": "code",
   "execution_count": 15,
   "id": "07a5162d",
   "metadata": {},
   "outputs": [],
   "source": [
    "paths = []\n",
    "for r, d, f in os.walk(r\"/Users/james/MScCode/Final Project/Datasets/brain_tumour_small/no\"):\n",
    "    for file in f:\n",
    "        if '.jpg' in file:\n",
    "            paths.append(os.path.join(r, file))\n",
    "\n",
    "for path in paths:\n",
    "    img = Image.open(path)\n",
    "    img = img.resize((128,128))\n",
    "    img = np.array(img)\n",
    "    if(img.shape == (128,128,3)):\n",
    "        data.append(np.array(img))\n",
    "        result.append(encoder.transform([[1]]).toarray())"
   ]
  },
  {
   "cell_type": "code",
   "execution_count": 16,
   "id": "2451f6cf-f51e-4aa8-abe2-39e7d474d5e7",
   "metadata": {},
   "outputs": [],
   "source": [
    "data = np.array(data)\n",
    "results = np.array(result)\n",
    "results = results.reshape(data.shape[0], 2)"
   ]
  },
  {
   "cell_type": "code",
   "execution_count": 17,
   "id": "8031a9cf-d943-4af5-9116-92a1b384a153",
   "metadata": {},
   "outputs": [],
   "source": [
    "X_train, X_test, y_train, y_test = train_test_split(data, results, test_size=0.5, shuffle=True, random_state=0)"
   ]
  },
  {
   "cell_type": "code",
   "execution_count": 20,
   "id": "e95b3f7c-b0c2-4c3d-874b-0361e6415bb2",
   "metadata": {},
   "outputs": [
    {
     "name": "stdout",
     "output_type": "stream",
     "text": [
      "Epoch 1/50\n"
     ]
    },
    {
     "name": "stderr",
     "output_type": "stream",
     "text": [
      "2023-01-13 17:17:57.198993: I tensorflow/core/grappler/optimizers/custom_graph_optimizer_registry.cc:114] Plugin optimizer for device_type GPU is enabled.\n"
     ]
    },
    {
     "name": "stdout",
     "output_type": "stream",
     "text": [
      "2/2 [==============================] - 3s 1s/step - loss: 49.6457 - val_loss: 253.4489\n",
      "Epoch 2/50\n"
     ]
    },
    {
     "name": "stderr",
     "output_type": "stream",
     "text": [
      "2023-01-13 17:17:59.941755: I tensorflow/core/grappler/optimizers/custom_graph_optimizer_registry.cc:114] Plugin optimizer for device_type GPU is enabled.\n"
     ]
    },
    {
     "name": "stdout",
     "output_type": "stream",
     "text": [
      "2/2 [==============================] - 0s 152ms/step - loss: 22.3490 - val_loss: 129.3192\n",
      "Epoch 3/50\n",
      "2/2 [==============================] - 0s 145ms/step - loss: 16.5771 - val_loss: 184.9316\n",
      "Epoch 4/50\n",
      "2/2 [==============================] - 0s 143ms/step - loss: 9.2043 - val_loss: 36.3381\n",
      "Epoch 5/50\n",
      "2/2 [==============================] - 0s 144ms/step - loss: 0.8067 - val_loss: 41.9377\n",
      "Epoch 6/50\n",
      "2/2 [==============================] - 0s 159ms/step - loss: 2.0016 - val_loss: 74.8410\n",
      "Epoch 7/50\n",
      "2/2 [==============================] - 0s 156ms/step - loss: 3.2943 - val_loss: 74.0615\n",
      "Epoch 8/50\n",
      "2/2 [==============================] - 0s 150ms/step - loss: 1.8755 - val_loss: 58.3498\n",
      "Epoch 9/50\n",
      "2/2 [==============================] - 0s 142ms/step - loss: 0.9669 - val_loss: 39.5923\n",
      "Epoch 10/50\n",
      "2/2 [==============================] - 0s 142ms/step - loss: 1.8169 - val_loss: 28.9222\n",
      "Epoch 11/50\n",
      "2/2 [==============================] - 0s 155ms/step - loss: 0.6740 - val_loss: 29.3429\n",
      "Epoch 12/50\n",
      "2/2 [==============================] - 0s 149ms/step - loss: 0.1907 - val_loss: 30.2380\n",
      "Epoch 13/50\n",
      "2/2 [==============================] - 0s 154ms/step - loss: 0.4278 - val_loss: 29.3216\n",
      "Epoch 14/50\n",
      "2/2 [==============================] - 0s 142ms/step - loss: 0.1344 - val_loss: 27.8591\n",
      "Epoch 15/50\n",
      "2/2 [==============================] - 0s 162ms/step - loss: 0.1257 - val_loss: 24.7235\n",
      "Epoch 16/50\n",
      "2/2 [==============================] - 0s 143ms/step - loss: 0.1191 - val_loss: 22.6088\n",
      "Epoch 17/50\n",
      "2/2 [==============================] - 0s 144ms/step - loss: 0.1218 - val_loss: 20.1363\n",
      "Epoch 18/50\n",
      "2/2 [==============================] - 0s 144ms/step - loss: 0.6170 - val_loss: 17.0164\n",
      "Epoch 19/50\n",
      "2/2 [==============================] - 0s 143ms/step - loss: 0.0742 - val_loss: 13.8874\n",
      "Epoch 20/50\n",
      "2/2 [==============================] - 0s 143ms/step - loss: 0.1560 - val_loss: 11.9845\n",
      "Epoch 21/50\n",
      "2/2 [==============================] - 0s 145ms/step - loss: 0.0064 - val_loss: 10.4220\n",
      "Epoch 22/50\n",
      "2/2 [==============================] - 0s 150ms/step - loss: 8.4785e-06 - val_loss: 9.1010\n",
      "Epoch 23/50\n",
      "2/2 [==============================] - 0s 144ms/step - loss: 0.0027 - val_loss: 7.9730\n",
      "Epoch 24/50\n",
      "2/2 [==============================] - 0s 144ms/step - loss: 0.3374 - val_loss: 8.0913\n",
      "Epoch 25/50\n",
      "2/2 [==============================] - 0s 146ms/step - loss: 0.0288 - val_loss: 8.2056\n",
      "Epoch 26/50\n",
      "2/2 [==============================] - 0s 146ms/step - loss: 0.0071 - val_loss: 8.3522\n",
      "Epoch 27/50\n",
      "2/2 [==============================] - 0s 143ms/step - loss: 0.0692 - val_loss: 8.2894\n",
      "Epoch 28/50\n",
      "2/2 [==============================] - 0s 143ms/step - loss: 3.3338e-04 - val_loss: 8.2151\n",
      "Epoch 29/50\n",
      "2/2 [==============================] - 0s 150ms/step - loss: 3.0818e-04 - val_loss: 8.1274\n",
      "Epoch 30/50\n",
      "2/2 [==============================] - 0s 143ms/step - loss: 0.0019 - val_loss: 8.0213\n",
      "Epoch 31/50\n",
      "2/2 [==============================] - 0s 144ms/step - loss: 4.0443e-05 - val_loss: 7.9040\n",
      "Epoch 32/50\n",
      "2/2 [==============================] - 0s 144ms/step - loss: 6.2152e-05 - val_loss: 7.7800\n",
      "Epoch 33/50\n",
      "2/2 [==============================] - 0s 148ms/step - loss: 0.0304 - val_loss: 7.7659\n",
      "Epoch 34/50\n",
      "2/2 [==============================] - 0s 144ms/step - loss: 0.0094 - val_loss: 7.8880\n",
      "Epoch 35/50\n",
      "2/2 [==============================] - 0s 142ms/step - loss: 6.7320e-05 - val_loss: 7.9498\n",
      "Epoch 36/50\n",
      "2/2 [==============================] - 0s 144ms/step - loss: 2.8968e-06 - val_loss: 7.9740\n",
      "Epoch 37/50\n",
      "2/2 [==============================] - 0s 145ms/step - loss: 0.0027 - val_loss: 7.9600\n",
      "Epoch 38/50\n",
      "2/2 [==============================] - 0s 148ms/step - loss: 0.0514 - val_loss: 7.7044\n",
      "Epoch 39/50\n",
      "2/2 [==============================] - 0s 146ms/step - loss: 3.7590e-05 - val_loss: 7.5077\n",
      "Epoch 40/50\n",
      "2/2 [==============================] - 0s 144ms/step - loss: 5.5611e-05 - val_loss: 7.3281\n",
      "Epoch 41/50\n",
      "2/2 [==============================] - 0s 159ms/step - loss: 1.4435e-04 - val_loss: 7.1716\n",
      "Epoch 42/50\n",
      "2/2 [==============================] - 0s 144ms/step - loss: 7.2618e-06 - val_loss: 7.0268\n",
      "Epoch 43/50\n",
      "2/2 [==============================] - 0s 145ms/step - loss: 1.3352e-05 - val_loss: 6.9019\n",
      "Epoch 44/50\n",
      "2/2 [==============================] - 0s 150ms/step - loss: 3.7316e-05 - val_loss: 6.7870\n",
      "Epoch 45/50\n",
      "2/2 [==============================] - 0s 144ms/step - loss: 0.0010 - val_loss: 6.6829\n",
      "Epoch 46/50\n",
      "2/2 [==============================] - 0s 147ms/step - loss: 4.3819e-05 - val_loss: 6.5864\n",
      "Epoch 47/50\n",
      "2/2 [==============================] - 0s 148ms/step - loss: 8.8890e-04 - val_loss: 6.4972\n",
      "Epoch 48/50\n",
      "2/2 [==============================] - 0s 143ms/step - loss: 8.7420e-07 - val_loss: 6.4154\n",
      "Epoch 49/50\n",
      "2/2 [==============================] - 0s 144ms/step - loss: 0.0032 - val_loss: 6.3439\n",
      "Epoch 50/50\n",
      "2/2 [==============================] - 0s 144ms/step - loss: 9.3678e-05 - val_loss: 6.2809\n"
     ]
    }
   ],
   "source": [
    "model = Sequential()\n",
    "\n",
    "model.add(Conv2D(32, kernel_size=(2, 2), input_shape=(128, 128, 3), padding = 'Same'))\n",
    "model.add(Conv2D(32, kernel_size=(2, 2),  activation ='relu', padding = 'Same'))\n",
    "\n",
    "model.add(BatchNormalization())\n",
    "model.add(MaxPooling2D(pool_size=(2, 2)))\n",
    "model.add(Dropout(0.25))\n",
    "\n",
    "model.add(Conv2D(64, kernel_size = (2,2), activation ='relu', padding = 'Same'))\n",
    "model.add(Conv2D(64, kernel_size = (2,2), activation ='relu', padding = 'Same'))\n",
    "\n",
    "model.add(BatchNormalization())\n",
    "model.add(MaxPooling2D(pool_size=(2,2), strides=(2,2)))\n",
    "model.add(Dropout(0.25))\n",
    "\n",
    "model.add(Flatten())\n",
    "\n",
    "model.add(Dense(512, activation='relu'))\n",
    "model.add(Dropout(0.5))\n",
    "model.add(Dense(2, activation='softmax'))\n",
    "\n",
    "model.compile(loss = \"categorical_crossentropy\", optimizer=Adam())\n",
    "history = model.fit(X_train, y_train, epochs = 50, batch_size = 40, verbose = 1,validation_data = (X_test, y_test))"
   ]
  },
  {
   "cell_type": "code",
   "execution_count": 21,
   "id": "57f06c40",
   "metadata": {},
   "outputs": [
    {
     "data": {
      "image/png": "[encoded data removed]",
      "text/plain": [
       "<Figure size 640x480 with 1 Axes>"
      ]
     },
     "metadata": {},
     "output_type": "display_data"
    }
   ],
   "source": [
    "plt.plot(history.history['loss'])\n",
    "plt.plot(history.history['val_loss'])\n",
    "plt.title('Model Loss')\n",
    "plt.ylabel('Loss')\n",
    "plt.xlabel('Epoch')\n",
    "plt.legend(['Test', 'Validation'], loc='upper right')\n",
    "plt.show()"
   ]
  }
 ],
 "metadata": {
  "kernelspec": {
   "display_name": "Python 3 (ipykernel)",
   "language": "python",
   "name": "python3"
  },
  "language_info": {
   "codemirror_mode": {
    "name": "ipython",
    "version": 3
   },
   "file_extension": ".py",
   "mimetype": "text/x-python",
   "name": "python",
   "nbconvert_exporter": "python",
   "pygments_lexer": "ipython3",
   "version": "3.10.8 | packaged by conda-forge | (main, Nov 22 2022, 08:25:29) [Clang 14.0.6 ]"
  },
  "vscode": {
   "interpreter": {
    "hash": "bf38093bbd6a78c670253c024693eed0681000a19859817effa36d4989c86aad"
   }
  }
 },
 "nbformat": 4,
 "nbformat_minor": 5
}
