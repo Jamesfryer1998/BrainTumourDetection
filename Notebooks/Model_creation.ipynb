{
 "cells": [
  {
   "cell_type": "code",
   "execution_count": 5,
   "id": "37fa3767-958c-4a34-b02d-66b3d52a33c7",
   "metadata": {},
   "outputs": [],
   "source": [
    "import os\n",
    "import json\n",
    "from PIL import Image\n",
    "import numpy as np\n",
    "import pandas as pd\n",
    "import matplotlib.pyplot as plt\n",
    "import seaborn as sns\n",
    "from PIL import Image\n",
    "import tqdm\n",
    "import cv2\n",
    "import datetime\n",
    "\n",
    "import keras\n",
    "from keras.models import Sequential\n",
    "from keras.layers import Conv2D, MaxPooling2D, Flatten, Dense, Dropout, BatchNormalization\n",
    "from tensorflow.keras import layers\n",
    "from tensorflow.keras.optimizers.legacy import Adam\n",
    "import tensorflow as tf\n",
    "\n",
    "from sklearn.utils import shuffle\n",
    "from sklearn.model_selection import train_test_split\n",
    "from sklearn.preprocessing import OneHotEncoder\n",
    "from sklearn.metrics import classification_report, accuracy_score, confusion_matrix"
   ]
  },
  {
   "cell_type": "markdown",
   "id": "d9bfa1bd-afcb-4d37-9896-bd41c86ef1ca",
   "metadata": {
    "tags": []
   },
   "source": [
    "# Visualising Dataset"
   ]
  },
  {
   "cell_type": "code",
   "execution_count": 2,
   "id": "821fc882-3554-4284-988d-7fea75dc25b2",
   "metadata": {},
   "outputs": [
    {
     "name": "stdout",
     "output_type": "stream",
     "text": [
      "Number of images in training:  5708\n",
      "Number of images in testing:  1311\n",
      "Total number of images: 7019\n"
     ]
    },
    {
     "data": {
      "image/png": "[encoded data removed]",
      "text/plain": [
       "<Figure size 1200x500 with 2 Axes>"
      ]
     },
     "metadata": {},
     "output_type": "display_data"
    }
   ],
   "source": [
    "root_path = '/Users/james/MScCode/Final Project/Datasets_cleaned/240_resolution/brain_tumour_large'\n",
    "labels = []\n",
    "train_folder = root_path+'/Training/'\n",
    "test_folder = root_path+'/Testing/'\n",
    "\n",
    "quantity_tr = {} \n",
    "quantity_te = {}\n",
    "for folder in os.listdir(train_folder):\n",
    "    if folder != '.DS_Store':\n",
    "        quantity_tr[folder] = len(os.listdir(train_folder+folder))\n",
    "        labels.append(folder)\n",
    "    \n",
    "for folder in os.listdir(test_folder):\n",
    "    if folder != '.DS_Store':\n",
    "        quantity_te[folder] = len(os.listdir(test_folder+folder))\n",
    "    \n",
    "    \n",
    "quantity_train = pd.DataFrame(list(quantity_tr.items()),\n",
    "                              index=range(0,len(quantity_tr)), columns=['class','count'])\n",
    "\n",
    "quantity_test = pd.DataFrame(list(quantity_te.items()),\n",
    "                              index=range(0,len(quantity_te)), columns=['class','count'])\n",
    "\n",
    "figure, ax = plt.subplots(1,2,figsize=(12,5))\n",
    "sns.barplot(x='class',y='count',data=quantity_train,ax=ax[0])\n",
    "sns.barplot(x='class',y='count',data=quantity_test,ax=ax[1])\n",
    "\n",
    "print(\"Number of images in training: \", sum(quantity_tr.values()))\n",
    "print(\"Number of images in testing: \", sum(quantity_te.values()))\n",
    "print(f'Total number of images: {sum(quantity_tr.values()) + sum(quantity_te.values())}')\n",
    "\n",
    "plt.show()"
   ]
  },
  {
   "cell_type": "markdown",
   "id": "3382fe6d-abbb-4d3d-a3d0-89cd9ef5b7d8",
   "metadata": {},
   "source": [
    "# Pre-Processing"
   ]
  },
  {
   "cell_type": "code",
   "execution_count": 3,
   "id": "3d714359-187b-44dd-bfb3-3a7e860e0698",
   "metadata": {},
   "outputs": [
    {
     "name": "stdout",
     "output_type": "stream",
     "text": [
      "X_train shape: (5208, 240, 240, 3)\n",
      "y_train shape: (5208, 4)\n",
      "X_test shape: (1311, 240, 240, 3)\n",
      "y_test shape: (1311, 4)\n",
      "X_val shape: (500, 240, 240, 3)\n",
      "y_val shape: (500, 4)\n"
     ]
    }
   ],
   "source": [
    "def multiclass_preprocessing():\n",
    "    X_train=[]\n",
    "    X_test=[]\n",
    "    y_train=[]\n",
    "    y_test=[] \n",
    "    \n",
    "    # Training set\n",
    "    for label in labels:\n",
    "        folder_dir = f'{train_folder}{label}'\n",
    "        count = 0\n",
    "        for file in os.listdir(folder_dir):\n",
    "            img = cv2.imread(f'{folder_dir}/{file}')\n",
    "            X_train.append(img)\n",
    "            y_train.append(label)\n",
    "                \n",
    "\n",
    "    # Testing set\n",
    "    for label in labels:\n",
    "        folder_dir = f'{test_folder}{label}'\n",
    "        for file in os.listdir(folder_dir):\n",
    "            img = cv2.imread(f'{folder_dir}/{file}')\n",
    "            X_test.append(img)\n",
    "            y_test.append(label)\n",
    "            \n",
    "    X_train = np.array(X_train)\n",
    "    X_test = np.array(X_test)\n",
    "    y_train = np.array(y_train)\n",
    "    y_test = np.array(y_test)\n",
    "    \n",
    "    # Rescaling\n",
    "    X_train=X_train/float(255.0)\n",
    "    X_test=X_test/float(255.0)\n",
    "    \n",
    "    # Shuffling\n",
    "    X_train_full, y_train_full = shuffle(X_train, y_train, random_state=42)\n",
    "    X_test, y_test = shuffle(X_test, y_test, random_state=42)\n",
    "    \n",
    "    # One-hot encoding y labels\n",
    "    y_train_full = tf.keras.utils.to_categorical([labels.index(i) for i in y_train_full])\n",
    "    y_test = tf.keras.utils.to_categorical([labels.index(i) for i in y_test])\n",
    "    \n",
    "    # Creating validation datasets (500 length)\n",
    "    X_train, y_train = X_train_full[:-500], y_train_full[:-500]\n",
    "    X_val, y_val = X_train_full[-500:], y_train_full[-500:]\n",
    "\n",
    "    # Shapes\n",
    "    print(f'X_train shape: {X_train.shape}')\n",
    "    print(f'y_train shape: {y_train.shape}')\n",
    "    print(f'X_test shape: {X_test.shape}')\n",
    "    print(f'y_test shape: {y_test.shape}')\n",
    "    print(f'X_val shape: {X_val.shape}')\n",
    "    print(f'y_val shape: {y_val.shape}')\n",
    "    \n",
    "    return X_train, y_train, X_test, y_test, X_val, y_val\n",
    "    \n",
    "X_train, y_train, X_test, y_test, X_val, y_val = multiclass_preprocessing()"
   ]
  },
  {
   "cell_type": "code",
   "execution_count": 36,
   "id": "b998a613-01d9-4601-8d7c-5f4bfefaa849",
   "metadata": {},
   "outputs": [],
   "source": [
    "def plot_results(loss_values, val_loss, loss, accuracy, title):\n",
    "    \"\"\"\n",
    "    Plots evaluation history values of model.\n",
    "    This plot function was copied from the IMDB lecture notebook.\n",
    "    \"\"\"\n",
    "    print('Test loss:', loss)\n",
    "    print('Test accuracy:', accuracy)\n",
    "    \n",
    "    epochs = range(1, len(loss_values) + 1)\n",
    "\n",
    "    blue_dots = 'bo'\n",
    "    solid_blue_line = 'b'\n",
    "\n",
    "    plt.figure(figsize=(10, 6), dpi=100)\n",
    "    plt.plot(epochs, loss_values, blue_dots, label = 'Training loss')\n",
    "    plt.plot(epochs, val_loss, solid_blue_line, label = 'Validation loss')\n",
    "    plt.title(f'Training and validation loss - {title}')\n",
    "    plt.xlabel('Epochs')\n",
    "    plt.ylabel('Loss')\n",
    "    plt.legend()\n",
    "    plt.show("
   ]
  },
  {
   "cell_type": "markdown",
   "id": "14ccf0b0-0f84-4561-8bd9-d8a7144e0e85",
   "metadata": {},
   "source": [
    "# Sequential Model creation"
   ]
  },
  {
   "cell_type": "code",
   "execution_count": 65,
   "id": "36e0de1d-1c39-443a-8369-ce98de2d2ab6",
   "metadata": {},
   "outputs": [
    {
     "ename": "FileNotFoundError",
     "evalue": "[Errno 2] No such file or directory: 'model_creation/model_structure_testing.json'",
     "output_type": "error",
     "traceback": [
      "\u001b[0;31m---------------------------------------------------------------------------\u001b[0m",
      "\u001b[0;31mFileNotFoundError\u001b[0m                         Traceback (most recent call last)",
      "Cell \u001b[0;32mIn[65], line 115\u001b[0m\n\u001b[1;32m    111\u001b[0m                 json\u001b[38;5;241m.\u001b[39mdump(data, outfile)\n\u001b[1;32m    112\u001b[0m                 \u001b[38;5;28mprint\u001b[39m(\u001b[38;5;124m'\u001b[39m\u001b[38;5;124mupdated file\u001b[39m\u001b[38;5;124m'\u001b[39m)\n\u001b[0;32m--> 115\u001b[0m \u001b[43mbuild_model\u001b[49m\u001b[43m(\u001b[49m\u001b[38;5;241;43m1\u001b[39;49m\u001b[43m,\u001b[49m\u001b[38;5;241;43m1\u001b[39;49m\u001b[43m,\u001b[49m\u001b[38;5;241;43m1\u001b[39;49m\u001b[43m)\u001b[49m\n",
      "Cell \u001b[0;32mIn[65], line 100\u001b[0m, in \u001b[0;36mbuild_model\u001b[0;34m(num_conv_layers, num_dense_layers, run, save_results)\u001b[0m\n\u001b[1;32m     97\u001b[0m \u001b[38;5;28;01mif\u001b[39;00m save_results \u001b[38;5;241m==\u001b[39m \u001b[38;5;28;01mTrue\u001b[39;00m:\n\u001b[1;32m     98\u001b[0m     \u001b[38;5;66;03m# If file not exists, create new file\u001b[39;00m\n\u001b[1;32m     99\u001b[0m     \u001b[38;5;28;01mif\u001b[39;00m os\u001b[38;5;241m.\u001b[39mpath\u001b[38;5;241m.\u001b[39mexists(\u001b[38;5;124m\"\u001b[39m\u001b[38;5;124mmodel_creation/model_structure_testing.json\u001b[39m\u001b[38;5;124m\"\u001b[39m) \u001b[38;5;241m==\u001b[39m \u001b[38;5;28;01mFalse\u001b[39;00m:\n\u001b[0;32m--> 100\u001b[0m         \u001b[38;5;28;01mwith\u001b[39;00m \u001b[38;5;28;43mopen\u001b[39;49m\u001b[43m(\u001b[49m\u001b[38;5;124;43m\"\u001b[39;49m\u001b[38;5;124;43mmodel_creation/model_structure_testing.json\u001b[39;49m\u001b[38;5;124;43m\"\u001b[39;49m\u001b[43m,\u001b[49m\u001b[43m \u001b[49m\u001b[38;5;124;43m\"\u001b[39;49m\u001b[38;5;124;43mw\u001b[39;49m\u001b[38;5;124;43m\"\u001b[39;49m\u001b[43m)\u001b[49m \u001b[38;5;28;01mas\u001b[39;00m outfile:\n\u001b[1;32m    101\u001b[0m             json\u001b[38;5;241m.\u001b[39mdump(result_dict, outfile)\n\u001b[1;32m    102\u001b[0m             \u001b[38;5;28mprint\u001b[39m(\u001b[38;5;124m'\u001b[39m\u001b[38;5;124mnew file made\u001b[39m\u001b[38;5;124m'\u001b[39m)\n",
      "File \u001b[0;32m~/miniforge3/envs/finalprojectenv/lib/python3.10/site-packages/IPython/core/interactiveshell.py:282\u001b[0m, in \u001b[0;36m_modified_open\u001b[0;34m(file, *args, **kwargs)\u001b[0m\n\u001b[1;32m    275\u001b[0m \u001b[38;5;28;01mif\u001b[39;00m file \u001b[38;5;129;01min\u001b[39;00m {\u001b[38;5;241m0\u001b[39m, \u001b[38;5;241m1\u001b[39m, \u001b[38;5;241m2\u001b[39m}:\n\u001b[1;32m    276\u001b[0m     \u001b[38;5;28;01mraise\u001b[39;00m \u001b[38;5;167;01mValueError\u001b[39;00m(\n\u001b[1;32m    277\u001b[0m         \u001b[38;5;124mf\u001b[39m\u001b[38;5;124m\"\u001b[39m\u001b[38;5;124mIPython won\u001b[39m\u001b[38;5;124m'\u001b[39m\u001b[38;5;124mt let you open fd=\u001b[39m\u001b[38;5;132;01m{\u001b[39;00mfile\u001b[38;5;132;01m}\u001b[39;00m\u001b[38;5;124m by default \u001b[39m\u001b[38;5;124m\"\u001b[39m\n\u001b[1;32m    278\u001b[0m         \u001b[38;5;124m\"\u001b[39m\u001b[38;5;124mas it is likely to crash IPython. If you know what you are doing, \u001b[39m\u001b[38;5;124m\"\u001b[39m\n\u001b[1;32m    279\u001b[0m         \u001b[38;5;124m\"\u001b[39m\u001b[38;5;124myou can use builtins\u001b[39m\u001b[38;5;124m'\u001b[39m\u001b[38;5;124m open.\u001b[39m\u001b[38;5;124m\"\u001b[39m\n\u001b[1;32m    280\u001b[0m     )\n\u001b[0;32m--> 282\u001b[0m \u001b[38;5;28;01mreturn\u001b[39;00m \u001b[43mio_open\u001b[49m\u001b[43m(\u001b[49m\u001b[43mfile\u001b[49m\u001b[43m,\u001b[49m\u001b[43m \u001b[49m\u001b[38;5;241;43m*\u001b[39;49m\u001b[43margs\u001b[49m\u001b[43m,\u001b[49m\u001b[43m \u001b[49m\u001b[38;5;241;43m*\u001b[39;49m\u001b[38;5;241;43m*\u001b[39;49m\u001b[43mkwargs\u001b[49m\u001b[43m)\u001b[49m\n",
      "\u001b[0;31mFileNotFoundError\u001b[0m: [Errno 2] No such file or directory: 'model_creation/model_structure_testing.json'"
     ]
    }
   ],
   "source": [
    "def build_model(num_conv_layers, num_dense_layers, run, save_results=True):\n",
    "#     t1 = datetime.datetime.now()\n",
    "#     print(f'Starting Conv: {num_conv_layers} - Dense: {num_dense_layers}')\n",
    "#     model = Sequential()\n",
    "    \n",
    "#     # Convolution and pooling layers \n",
    "#     if num_conv_layers == 1:\n",
    "#         model.add(layers.Conv2D(64, (3, 3), input_shape=(240, 240, 3), activation=\"relu\"))\n",
    "#         model.add(layers.MaxPooling2D(pool_size=(2, 2)))\n",
    "        \n",
    "#     elif num_conv_layers == 2:\n",
    "#         model.add(layers.Conv2D(64, (3, 3), input_shape=(240, 240, 3), activation=\"relu\"))\n",
    "#         model.add(layers.MaxPooling2D(pool_size=(2, 2)))\n",
    "        \n",
    "#         model.add(layers.Conv2D(64, (3, 3), activation=\"relu\"))\n",
    "#         model.add(layers.MaxPooling2D(pool_size=(2, 2)))\n",
    "        \n",
    "#     elif num_conv_layers == 3:\n",
    "#         model.add(layers.Conv2D(64, (3, 3), input_shape=(240, 240, 3), activation=\"relu\"))\n",
    "#         model.add(layers.MaxPooling2D(pool_size=(2, 2)))\n",
    "        \n",
    "#         model.add(layers.Conv2D(64, (3, 3), activation=\"relu\"))\n",
    "#         model.add(layers.MaxPooling2D(pool_size=(2, 2)))\n",
    "        \n",
    "#         model.add(layers.Conv2D(128, (3, 3), activation=\"relu\"))\n",
    "#         model.add(layers.MaxPooling2D(pool_size=(2, 2)))\n",
    "        \n",
    "#     elif num_conv_layers == 4:\n",
    "#         model.add(layers.Conv2D(64, (3, 3), input_shape=(240, 240, 3), activation=\"relu\"))\n",
    "#         model.add(layers.MaxPooling2D(pool_size=(2, 2)))\n",
    "        \n",
    "#         model.add(layers.Conv2D(64, (3, 3), activation=\"relu\"))\n",
    "#         model.add(layers.MaxPooling2D(pool_size=(2, 2)))\n",
    "        \n",
    "#         model.add(layers.Conv2D(128, (3, 3), activation=\"relu\"))\n",
    "#         model.add(layers.MaxPooling2D(pool_size=(2, 2)))\n",
    "        \n",
    "#         model.add(layers.Conv2D(128, (3, 3), activation=\"relu\"))\n",
    "#         model.add(layers.MaxPooling2D(pool_size=(2, 2)))\n",
    "        \n",
    "#     # Flattern the layers\n",
    "#     model.add(layers.Flatten())\n",
    "        \n",
    "#     # Dense and Dropout layers\n",
    "#     if num_dense_layers == 1:\n",
    "#         model.add(layers.Dense(4, activation=\"softmax\"))   \n",
    "        \n",
    "#     elif num_dense_layers == 2:\n",
    "#         model.add(layers.Dense(256, activation=\"relu\"))\n",
    "#         model.add(layers.Dropout(0.2))\n",
    "#         model.add(layers.Dense(4, activation=\"softmax\"))   \n",
    "        \n",
    "#     elif num_dense_layers == 3:\n",
    "#         model.add(layers.Dense(256, activation=\"relu\"))\n",
    "#         model.add(layers.Dropout(0.2))\n",
    "#         model.add(layers.Dense(256, activation=\"relu\"))\n",
    "#         model.add(layers.Dropout(0.2))\n",
    "#         model.add(layers.Dense(4, activation=\"softmax\"))  \n",
    "        \n",
    "#     elif num_dense_layers == 4:\n",
    "#         model.add(layers.Dense(256, activation=\"relu\"))\n",
    "#         model.add(layers.Dropout(0.2))\n",
    "#         model.add(layers.Dense(256, activation=\"relu\"))\n",
    "#         model.add(layers.Dropout(0.2))\n",
    "#         model.add(layers.Dense(256, activation=\"relu\"))\n",
    "#         model.add(layers.Dropout(0.2))\n",
    "#         model.add(layers.Dense(4, activation=\"softmax\")) \n",
    "        \n",
    "    \n",
    "#     model.compile(optimizer=Adam(), loss='categorical_crossentropy', metrics=['acc'])\n",
    "#     model_history = model.fit(X_train, y_train,\n",
    "#                   epochs=15,\n",
    "#                   verbose=1,\n",
    "#                   validation_data=(X_val, y_val))\n",
    "    \n",
    "#     history_dict = model_history.history\n",
    "#     score = model.evaluate(X_test, y_test, verbose=0)\n",
    "    \n",
    "#     print(f'Completed Conv{num_conv_layers} - Dense: {num_dense_layers}')\n",
    "#     print(f'TTR: {t2-t1}')\n",
    "    \n",
    "#     result_dict = [{\n",
    "#         'run':run,\n",
    "#         'time': str(t2-t1)\n",
    "#         'num_conv': num_conv_layers,\n",
    "#         'num_dense': num_dense_layers,\n",
    "#         'test_loss':score[0],\n",
    "#         'test_accuracy':score[1],\n",
    "#         'loss_values':history_dict['loss'],\n",
    "#         'val_loss':history_dict['val_loss']\n",
    "        \n",
    "#     }]\n",
    "    \n",
    "    result_dict = {'hello':'shalom'}\n",
    "    \n",
    "    # Saving results\n",
    "    if save_results == True:\n",
    "        # If file not exists, create new file\n",
    "        if os.path.exists(\"model_creation/model_structure_testing.json\") == False:\n",
    "            with open(\"model_creation/model_structure_testing.json\", \"w\") as outfile:\n",
    "                json.dump(result_dict, outfile)\n",
    "                print('new file made')\n",
    "        else:\n",
    "            # Open json file, append new contents\n",
    "            with open(\"model_creation/model_structure_testing.json\", \"r\") as infile:\n",
    "                data = json.load(infile)\n",
    "                data.extend(result_dict)\n",
    "                \n",
    "            # Save extended results\n",
    "            with open(\"model_creation/model_structure_testing.json\", \"w\") as outfile:\n",
    "                json.dump(data, outfile)\n",
    "                print('updated file')\n",
    "    \n",
    "    \n",
    "build_model(1,1,1)"
   ]
  },
  {
   "cell_type": "code",
   "execution_count": 62,
   "id": "3404fb79-735e-449e-9fb2-e757e93b2549",
   "metadata": {},
   "outputs": [],
   "source": [
    "sequential_model = Sequential(\n",
    "    [\n",
    "        layers.Conv2D(64, (3, 3), input_shape=(240, 240, 3), activation=\"relu\"),\n",
    "        layers.MaxPooling2D(pool_size=(2, 2)),\n",
    "        \n",
    "        layers.Conv2D(64, (3, 3), activation=\"relu\"),\n",
    "        layers.MaxPooling2D(pool_size=(2, 2)),\n",
    "        \n",
    "        layers.Conv2D(128, (3, 3), activation=\"relu\"),\n",
    "        layers.MaxPooling2D(pool_size=(2, 2)),\n",
    "        \n",
    "        layers.Flatten(),\n",
    "        layers.Dense(256, activation=\"relu\"),\n",
    "        layers.Dropout(0.5),\n",
    "        layers.Dense(4, activation=\"softmax\"),    \n",
    "    ]\n",
    ")\n",
    "sequential_model.compile(optimizer=Adam(), loss='categorical_crossentropy', metrics=['acc'])"
   ]
  },
  {
   "cell_type": "code",
   "execution_count": 63,
   "id": "1aeb2ffd-33be-4fb9-bcc6-0462e29703a2",
   "metadata": {},
   "outputs": [
    {
     "name": "stdout",
     "output_type": "stream",
     "text": [
      "Epoch 1/10\n"
     ]
    },
    {
     "name": "stderr",
     "output_type": "stream",
     "text": [
      "2023-01-26 11:10:46.949553: I tensorflow/core/grappler/optimizers/custom_graph_optimizer_registry.cc:114] Plugin optimizer for device_type GPU is enabled.\n"
     ]
    },
    {
     "name": "stdout",
     "output_type": "stream",
     "text": [
      "163/163 [==============================] - ETA: 0s - loss: 0.8242 - acc: 0.6713"
     ]
    },
    {
     "name": "stderr",
     "output_type": "stream",
     "text": [
      "2023-01-26 11:11:27.535181: I tensorflow/core/grappler/optimizers/custom_graph_optimizer_registry.cc:114] Plugin optimizer for device_type GPU is enabled.\n"
     ]
    },
    {
     "name": "stdout",
     "output_type": "stream",
     "text": [
      "163/163 [==============================] - 43s 259ms/step - loss: 0.8242 - acc: 0.6713 - val_loss: 0.5602 - val_acc: 0.7760\n",
      "Epoch 2/10\n",
      "163/163 [==============================] - 41s 250ms/step - loss: 0.4535 - acc: 0.8328 - val_loss: 0.3908 - val_acc: 0.8380\n",
      "Epoch 3/10\n",
      "163/163 [==============================] - 40s 247ms/step - loss: 0.2909 - acc: 0.8904 - val_loss: 0.3122 - val_acc: 0.8720\n",
      "Epoch 4/10\n",
      "163/163 [==============================] - 40s 246ms/step - loss: 0.1893 - acc: 0.9290 - val_loss: 0.3021 - val_acc: 0.8860\n",
      "Epoch 5/10\n",
      "163/163 [==============================] - 41s 249ms/step - loss: 0.1229 - acc: 0.9543 - val_loss: 0.3385 - val_acc: 0.8960\n",
      "Epoch 6/10\n",
      "163/163 [==============================] - 42s 255ms/step - loss: 0.0802 - acc: 0.9712 - val_loss: 0.3093 - val_acc: 0.9060\n",
      "Epoch 7/10\n",
      "163/163 [==============================] - 39s 238ms/step - loss: 0.0658 - acc: 0.9756 - val_loss: 0.2748 - val_acc: 0.9180\n",
      "Epoch 8/10\n",
      "163/163 [==============================] - 39s 238ms/step - loss: 0.0457 - acc: 0.9839 - val_loss: 0.4273 - val_acc: 0.8780\n",
      "Epoch 9/10\n",
      "163/163 [==============================] - 42s 258ms/step - loss: 0.0364 - acc: 0.9858 - val_loss: 0.3614 - val_acc: 0.9240\n",
      "Epoch 10/10\n",
      "163/163 [==============================] - 44s 266ms/step - loss: 0.0362 - acc: 0.9860 - val_loss: 0.4436 - val_acc: 0.8960\n"
     ]
    }
   ],
   "source": [
    "model_history = sequential_model.fit(X_train, y_train,\n",
    "              epochs=15,\n",
    "              verbose=1,\n",
    "              validation_data=(X_val, y_val))"
   ]
  },
  {
   "cell_type": "code",
   "execution_count": null,
   "id": "3dcd3a86-5a76-4539-b642-44bd8a4acee3",
   "metadata": {},
   "outputs": [],
   "source": [
    "history_dict = model_history.history\n",
    "score = sequential_model.evaluate(X_test, y_test, verbose=0)\n",
    "plot_results(history_dict['loss'], history_dict['val_loss'], score[0], score[1], 'Overfitting')"
   ]
  }
 ],
 "metadata": {
  "kernelspec": {
   "display_name": "Python 3 (ipykernel)",
   "language": "python",
   "name": "python3"
  },
  "language_info": {
   "codemirror_mode": {
    "name": "ipython",
    "version": 3
   },
   "file_extension": ".py",
   "mimetype": "text/x-python",
   "name": "python",
   "nbconvert_exporter": "python",
   "pygments_lexer": "ipython3",
   "version": "3.10.8"
  }
 },
 "nbformat": 4,
 "nbformat_minor": 5
}
